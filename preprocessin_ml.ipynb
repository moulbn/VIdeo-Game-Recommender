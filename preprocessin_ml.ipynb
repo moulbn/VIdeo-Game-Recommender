{
 "cells": [
  {
   "cell_type": "code",
   "execution_count": 70,
   "id": "2c3a5436",
   "metadata": {},
   "outputs": [
    {
     "name": "stdout",
     "output_type": "stream",
     "text": [
      "Collecting surprise\n",
      "  Using cached surprise-0.1-py2.py3-none-any.whl (1.8 kB)\n",
      "Collecting scikit-surprise\n",
      "  Using cached scikit-surprise-1.1.1.tar.gz (11.8 MB)\n",
      "  Preparing metadata (setup.py): started\n",
      "  Preparing metadata (setup.py): finished with status 'done'\n",
      "Requirement already satisfied: joblib>=0.11 in c:\\users\\charlotte\\anaconda3\\lib\\site-packages (from scikit-surprise->surprise) (1.0.1)\n",
      "Requirement already satisfied: numpy>=1.11.2 in c:\\users\\charlotte\\anaconda3\\lib\\site-packages (from scikit-surprise->surprise) (1.19.5)\n",
      "Requirement already satisfied: scipy>=1.0.0 in c:\\users\\charlotte\\anaconda3\\lib\\site-packages (from scikit-surprise->surprise) (1.7.1)\n",
      "Requirement already satisfied: six>=1.10.0 in c:\\users\\charlotte\\anaconda3\\lib\\site-packages (from scikit-surprise->surprise) (1.15.0)\n",
      "Building wheels for collected packages: scikit-surprise\n",
      "  Building wheel for scikit-surprise (setup.py): started\n",
      "  Building wheel for scikit-surprise (setup.py): finished with status 'error'\n",
      "  Running setup.py clean for scikit-surprise\n",
      "Failed to build scikit-surprise\n",
      "Installing collected packages: scikit-surprise, surprise\n",
      "    Running setup.py install for scikit-surprise: started\n",
      "    Running setup.py install for scikit-surprise: finished with status 'error'\n"
     ]
    },
    {
     "name": "stderr",
     "output_type": "stream",
     "text": [
      "WARNING: Ignoring invalid distribution -umpy (c:\\users\\charlotte\\anaconda3\\lib\\site-packages)\n",
      "WARNING: Ignoring invalid distribution -tatsmodels (c:\\users\\charlotte\\anaconda3\\lib\\site-packages)\n",
      "WARNING: Ignoring invalid distribution -cipy (c:\\users\\charlotte\\anaconda3\\lib\\site-packages)\n",
      "WARNING: Ignoring invalid distribution -umpy (c:\\users\\charlotte\\anaconda3\\lib\\site-packages)\n",
      "WARNING: Ignoring invalid distribution -tatsmodels (c:\\users\\charlotte\\anaconda3\\lib\\site-packages)\n",
      "WARNING: Ignoring invalid distribution -cipy (c:\\users\\charlotte\\anaconda3\\lib\\site-packages)\n",
      "  ERROR: Command errored out with exit status 1:\n",
      "   command: 'C:\\Users\\Charlotte\\Anaconda3\\python.exe' -u -c 'import io, os, sys, setuptools, tokenize; sys.argv[0] = '\"'\"'C:\\\\Users\\\\CHARLO~1\\\\AppData\\\\Local\\\\Temp\\\\pip-install-5elw9rr1\\\\scikit-surprise_58b07b9ad4904f7087df2bf97fd9b46e\\\\setup.py'\"'\"'; __file__='\"'\"'C:\\\\Users\\\\CHARLO~1\\\\AppData\\\\Local\\\\Temp\\\\pip-install-5elw9rr1\\\\scikit-surprise_58b07b9ad4904f7087df2bf97fd9b46e\\\\setup.py'\"'\"';f = getattr(tokenize, '\"'\"'open'\"'\"', open)(__file__) if os.path.exists(__file__) else io.StringIO('\"'\"'from setuptools import setup; setup()'\"'\"');code = f.read().replace('\"'\"'\\r\\n'\"'\"', '\"'\"'\\n'\"'\"');f.close();exec(compile(code, __file__, '\"'\"'exec'\"'\"'))' bdist_wheel -d 'C:\\Users\\CHARLO~1\\AppData\\Local\\Temp\\pip-wheel-mndx2c56'\n",
      "       cwd: C:\\Users\\CHARLO~1\\AppData\\Local\\Temp\\pip-install-5elw9rr1\\scikit-surprise_58b07b9ad4904f7087df2bf97fd9b46e\\\n",
      "  Complete output (52 lines):\n",
      "  C:\\Users\\Charlotte\\Anaconda3\\lib\\site-packages\\setuptools\\dist.py:720: UserWarning: Usage of dash-separated 'description-file' will not be supported in future versions. Please use the underscore name 'description_file' instead\n",
      "    % (opt, underscore_opt)\n",
      "  running bdist_wheel\n",
      "  running build\n",
      "  running build_py\n",
      "  creating build\n",
      "  creating build\\lib.win-amd64-3.7\n",
      "  creating build\\lib.win-amd64-3.7\\surprise\n",
      "  copying surprise\\accuracy.py -> build\\lib.win-amd64-3.7\\surprise\n",
      "  copying surprise\\builtin_datasets.py -> build\\lib.win-amd64-3.7\\surprise\n",
      "  copying surprise\\dataset.py -> build\\lib.win-amd64-3.7\\surprise\n",
      "  copying surprise\\dump.py -> build\\lib.win-amd64-3.7\\surprise\n",
      "  copying surprise\\reader.py -> build\\lib.win-amd64-3.7\\surprise\n",
      "  copying surprise\\trainset.py -> build\\lib.win-amd64-3.7\\surprise\n",
      "  copying surprise\\utils.py -> build\\lib.win-amd64-3.7\\surprise\n",
      "  copying surprise\\__init__.py -> build\\lib.win-amd64-3.7\\surprise\n",
      "  copying surprise\\__main__.py -> build\\lib.win-amd64-3.7\\surprise\n",
      "  creating build\\lib.win-amd64-3.7\\surprise\\model_selection\n",
      "  copying surprise\\model_selection\\search.py -> build\\lib.win-amd64-3.7\\surprise\\model_selection\n",
      "  copying surprise\\model_selection\\split.py -> build\\lib.win-amd64-3.7\\surprise\\model_selection\n",
      "  copying surprise\\model_selection\\validation.py -> build\\lib.win-amd64-3.7\\surprise\\model_selection\n",
      "  copying surprise\\model_selection\\__init__.py -> build\\lib.win-amd64-3.7\\surprise\\model_selection\n",
      "  creating build\\lib.win-amd64-3.7\\surprise\\prediction_algorithms\n",
      "  copying surprise\\prediction_algorithms\\algo_base.py -> build\\lib.win-amd64-3.7\\surprise\\prediction_algorithms\n",
      "  copying surprise\\prediction_algorithms\\baseline_only.py -> build\\lib.win-amd64-3.7\\surprise\\prediction_algorithms\n",
      "  copying surprise\\prediction_algorithms\\knns.py -> build\\lib.win-amd64-3.7\\surprise\\prediction_algorithms\n",
      "  copying surprise\\prediction_algorithms\\predictions.py -> build\\lib.win-amd64-3.7\\surprise\\prediction_algorithms\n",
      "  copying surprise\\prediction_algorithms\\random_pred.py -> build\\lib.win-amd64-3.7\\surprise\\prediction_algorithms\n",
      "  copying surprise\\prediction_algorithms\\__init__.py -> build\\lib.win-amd64-3.7\\surprise\\prediction_algorithms\n",
      "  running egg_info\n",
      "  writing scikit_surprise.egg-info\\PKG-INFO\n",
      "  writing dependency_links to scikit_surprise.egg-info\\dependency_links.txt\n",
      "  writing entry points to scikit_surprise.egg-info\\entry_points.txt\n",
      "  writing requirements to scikit_surprise.egg-info\\requires.txt\n",
      "  writing top-level names to scikit_surprise.egg-info\\top_level.txt\n",
      "  reading manifest file 'scikit_surprise.egg-info\\SOURCES.txt'\n",
      "  reading manifest template 'MANIFEST.in'\n",
      "  adding license file 'LICENSE.md'\n",
      "  writing manifest file 'scikit_surprise.egg-info\\SOURCES.txt'\n",
      "  copying surprise\\similarities.c -> build\\lib.win-amd64-3.7\\surprise\n",
      "  copying surprise\\similarities.pyx -> build\\lib.win-amd64-3.7\\surprise\n",
      "  copying surprise\\prediction_algorithms\\co_clustering.c -> build\\lib.win-amd64-3.7\\surprise\\prediction_algorithms\n",
      "  copying surprise\\prediction_algorithms\\matrix_factorization.c -> build\\lib.win-amd64-3.7\\surprise\\prediction_algorithms\n",
      "  copying surprise\\prediction_algorithms\\optimize_baselines.c -> build\\lib.win-amd64-3.7\\surprise\\prediction_algorithms\n",
      "  copying surprise\\prediction_algorithms\\slope_one.c -> build\\lib.win-amd64-3.7\\surprise\\prediction_algorithms\n",
      "  copying surprise\\prediction_algorithms\\co_clustering.pyx -> build\\lib.win-amd64-3.7\\surprise\\prediction_algorithms\n",
      "  copying surprise\\prediction_algorithms\\matrix_factorization.pyx -> build\\lib.win-amd64-3.7\\surprise\\prediction_algorithms\n",
      "  copying surprise\\prediction_algorithms\\optimize_baselines.pyx -> build\\lib.win-amd64-3.7\\surprise\\prediction_algorithms\n",
      "  copying surprise\\prediction_algorithms\\slope_one.pyx -> build\\lib.win-amd64-3.7\\surprise\\prediction_algorithms\n",
      "  running build_ext\n",
      "  building 'surprise.similarities' extension\n",
      "  error: Microsoft Visual C++ 14.0 or greater is required. Get it with \"Microsoft C++ Build Tools\": https://visualstudio.microsoft.com/visual-cpp-build-tools/\n",
      "  ----------------------------------------\n",
      "  ERROR: Failed building wheel for scikit-surprise\n",
      "WARNING: Ignoring invalid distribution -umpy (c:\\users\\charlotte\\anaconda3\\lib\\site-packages)\n",
      "WARNING: Ignoring invalid distribution -tatsmodels (c:\\users\\charlotte\\anaconda3\\lib\\site-packages)\n",
      "WARNING: Ignoring invalid distribution -cipy (c:\\users\\charlotte\\anaconda3\\lib\\site-packages)\n",
      "    ERROR: Command errored out with exit status 1:\n",
      "     command: 'C:\\Users\\Charlotte\\Anaconda3\\python.exe' -u -c 'import io, os, sys, setuptools, tokenize; sys.argv[0] = '\"'\"'C:\\\\Users\\\\CHARLO~1\\\\AppData\\\\Local\\\\Temp\\\\pip-install-5elw9rr1\\\\scikit-surprise_58b07b9ad4904f7087df2bf97fd9b46e\\\\setup.py'\"'\"'; __file__='\"'\"'C:\\\\Users\\\\CHARLO~1\\\\AppData\\\\Local\\\\Temp\\\\pip-install-5elw9rr1\\\\scikit-surprise_58b07b9ad4904f7087df2bf97fd9b46e\\\\setup.py'\"'\"';f = getattr(tokenize, '\"'\"'open'\"'\"', open)(__file__) if os.path.exists(__file__) else io.StringIO('\"'\"'from setuptools import setup; setup()'\"'\"');code = f.read().replace('\"'\"'\\r\\n'\"'\"', '\"'\"'\\n'\"'\"');f.close();exec(compile(code, __file__, '\"'\"'exec'\"'\"'))' install --record 'C:\\Users\\CHARLO~1\\AppData\\Local\\Temp\\pip-record-pxqcp09f\\install-record.txt' --single-version-externally-managed --compile --install-headers 'C:\\Users\\Charlotte\\Anaconda3\\Include\\scikit-surprise'\n",
      "         cwd: C:\\Users\\CHARLO~1\\AppData\\Local\\Temp\\pip-install-5elw9rr1\\scikit-surprise_58b07b9ad4904f7087df2bf97fd9b46e\\\n",
      "    Complete output (52 lines):\n",
      "    C:\\Users\\Charlotte\\Anaconda3\\lib\\site-packages\\setuptools\\dist.py:720: UserWarning: Usage of dash-separated 'description-file' will not be supported in future versions. Please use the underscore name 'description_file' instead\n",
      "      % (opt, underscore_opt)\n",
      "    running install\n",
      "    running build\n",
      "    running build_py\n",
      "    creating build\n",
      "    creating build\\lib.win-amd64-3.7\n",
      "    creating build\\lib.win-amd64-3.7\\surprise\n",
      "    copying surprise\\accuracy.py -> build\\lib.win-amd64-3.7\\surprise\n",
      "    copying surprise\\builtin_datasets.py -> build\\lib.win-amd64-3.7\\surprise\n",
      "    copying surprise\\dataset.py -> build\\lib.win-amd64-3.7\\surprise\n",
      "    copying surprise\\dump.py -> build\\lib.win-amd64-3.7\\surprise\n",
      "    copying surprise\\reader.py -> build\\lib.win-amd64-3.7\\surprise\n",
      "    copying surprise\\trainset.py -> build\\lib.win-amd64-3.7\\surprise\n",
      "    copying surprise\\utils.py -> build\\lib.win-amd64-3.7\\surprise\n",
      "    copying surprise\\__init__.py -> build\\lib.win-amd64-3.7\\surprise\n",
      "    copying surprise\\__main__.py -> build\\lib.win-amd64-3.7\\surprise\n",
      "    creating build\\lib.win-amd64-3.7\\surprise\\model_selection\n",
      "    copying surprise\\model_selection\\search.py -> build\\lib.win-amd64-3.7\\surprise\\model_selection\n",
      "    copying surprise\\model_selection\\split.py -> build\\lib.win-amd64-3.7\\surprise\\model_selection\n",
      "    copying surprise\\model_selection\\validation.py -> build\\lib.win-amd64-3.7\\surprise\\model_selection\n",
      "    copying surprise\\model_selection\\__init__.py -> build\\lib.win-amd64-3.7\\surprise\\model_selection\n",
      "    creating build\\lib.win-amd64-3.7\\surprise\\prediction_algorithms\n",
      "    copying surprise\\prediction_algorithms\\algo_base.py -> build\\lib.win-amd64-3.7\\surprise\\prediction_algorithms\n",
      "    copying surprise\\prediction_algorithms\\baseline_only.py -> build\\lib.win-amd64-3.7\\surprise\\prediction_algorithms\n",
      "    copying surprise\\prediction_algorithms\\knns.py -> build\\lib.win-amd64-3.7\\surprise\\prediction_algorithms\n",
      "    copying surprise\\prediction_algorithms\\predictions.py -> build\\lib.win-amd64-3.7\\surprise\\prediction_algorithms\n",
      "    copying surprise\\prediction_algorithms\\random_pred.py -> build\\lib.win-amd64-3.7\\surprise\\prediction_algorithms\n",
      "    copying surprise\\prediction_algorithms\\__init__.py -> build\\lib.win-amd64-3.7\\surprise\\prediction_algorithms\n",
      "    running egg_info\n",
      "    writing scikit_surprise.egg-info\\PKG-INFO\n",
      "    writing dependency_links to scikit_surprise.egg-info\\dependency_links.txt\n",
      "    writing entry points to scikit_surprise.egg-info\\entry_points.txt\n",
      "    writing requirements to scikit_surprise.egg-info\\requires.txt\n",
      "    writing top-level names to scikit_surprise.egg-info\\top_level.txt\n",
      "    reading manifest file 'scikit_surprise.egg-info\\SOURCES.txt'\n",
      "    reading manifest template 'MANIFEST.in'\n",
      "    adding license file 'LICENSE.md'\n",
      "    writing manifest file 'scikit_surprise.egg-info\\SOURCES.txt'\n",
      "    copying surprise\\similarities.c -> build\\lib.win-amd64-3.7\\surprise\n",
      "    copying surprise\\similarities.pyx -> build\\lib.win-amd64-3.7\\surprise\n",
      "    copying surprise\\prediction_algorithms\\co_clustering.c -> build\\lib.win-amd64-3.7\\surprise\\prediction_algorithms\n",
      "    copying surprise\\prediction_algorithms\\matrix_factorization.c -> build\\lib.win-amd64-3.7\\surprise\\prediction_algorithms\n",
      "    copying surprise\\prediction_algorithms\\optimize_baselines.c -> build\\lib.win-amd64-3.7\\surprise\\prediction_algorithms\n",
      "    copying surprise\\prediction_algorithms\\slope_one.c -> build\\lib.win-amd64-3.7\\surprise\\prediction_algorithms\n",
      "    copying surprise\\prediction_algorithms\\co_clustering.pyx -> build\\lib.win-amd64-3.7\\surprise\\prediction_algorithms\n",
      "    copying surprise\\prediction_algorithms\\matrix_factorization.pyx -> build\\lib.win-amd64-3.7\\surprise\\prediction_algorithms\n",
      "    copying surprise\\prediction_algorithms\\optimize_baselines.pyx -> build\\lib.win-amd64-3.7\\surprise\\prediction_algorithms\n",
      "    copying surprise\\prediction_algorithms\\slope_one.pyx -> build\\lib.win-amd64-3.7\\surprise\\prediction_algorithms\n",
      "    running build_ext\n",
      "    building 'surprise.similarities' extension\n",
      "    error: Microsoft Visual C++ 14.0 or greater is required. Get it with \"Microsoft C++ Build Tools\": https://visualstudio.microsoft.com/visual-cpp-build-tools/\n",
      "    ----------------------------------------\n",
      "ERROR: Command errored out with exit status 1: 'C:\\Users\\Charlotte\\Anaconda3\\python.exe' -u -c 'import io, os, sys, setuptools, tokenize; sys.argv[0] = '\"'\"'C:\\\\Users\\\\CHARLO~1\\\\AppData\\\\Local\\\\Temp\\\\pip-install-5elw9rr1\\\\scikit-surprise_58b07b9ad4904f7087df2bf97fd9b46e\\\\setup.py'\"'\"'; __file__='\"'\"'C:\\\\Users\\\\CHARLO~1\\\\AppData\\\\Local\\\\Temp\\\\pip-install-5elw9rr1\\\\scikit-surprise_58b07b9ad4904f7087df2bf97fd9b46e\\\\setup.py'\"'\"';f = getattr(tokenize, '\"'\"'open'\"'\"', open)(__file__) if os.path.exists(__file__) else io.StringIO('\"'\"'from setuptools import setup; setup()'\"'\"');code = f.read().replace('\"'\"'\\r\\n'\"'\"', '\"'\"'\\n'\"'\"');f.close();exec(compile(code, __file__, '\"'\"'exec'\"'\"'))' install --record 'C:\\Users\\CHARLO~1\\AppData\\Local\\Temp\\pip-record-pxqcp09f\\install-record.txt' --single-version-externally-managed --compile --install-headers 'C:\\Users\\Charlotte\\Anaconda3\\Include\\scikit-surprise' Check the logs for full command output.\n",
      "WARNING: Ignoring invalid distribution -umpy (c:\\users\\charlotte\\anaconda3\\lib\\site-packages)\n",
      "WARNING: Ignoring invalid distribution -tatsmodels (c:\\users\\charlotte\\anaconda3\\lib\\site-packages)\n",
      "WARNING: Ignoring invalid distribution -cipy (c:\\users\\charlotte\\anaconda3\\lib\\site-packages)\n",
      "WARNING: Ignoring invalid distribution -umpy (c:\\users\\charlotte\\anaconda3\\lib\\site-packages)\n",
      "WARNING: Ignoring invalid distribution -tatsmodels (c:\\users\\charlotte\\anaconda3\\lib\\site-packages)\n",
      "WARNING: Ignoring invalid distribution -cipy (c:\\users\\charlotte\\anaconda3\\lib\\site-packages)\n"
     ]
    },
    {
     "ename": "ModuleNotFoundError",
     "evalue": "No module named 'surprise'",
     "output_type": "error",
     "traceback": [
      "\u001b[1;31m---------------------------------------------------------------------------\u001b[0m",
      "\u001b[1;31mModuleNotFoundError\u001b[0m                       Traceback (most recent call last)",
      "\u001b[1;32m<ipython-input-70-887742320e65>\u001b[0m in \u001b[0;36m<module>\u001b[1;34m\u001b[0m\n\u001b[0;32m      3\u001b[0m \u001b[1;32mimport\u001b[0m \u001b[0mseaborn\u001b[0m \u001b[1;32mas\u001b[0m \u001b[0msns\u001b[0m\u001b[1;33m\u001b[0m\u001b[1;33m\u001b[0m\u001b[0m\n\u001b[0;32m      4\u001b[0m \u001b[1;32mimport\u001b[0m \u001b[0mmatplotlib\u001b[0m\u001b[1;33m.\u001b[0m\u001b[0mpyplot\u001b[0m \u001b[1;32mas\u001b[0m \u001b[0mplt\u001b[0m\u001b[1;33m\u001b[0m\u001b[1;33m\u001b[0m\u001b[0m\n\u001b[1;32m----> 5\u001b[1;33m \u001b[1;32mimport\u001b[0m \u001b[0msurprise\u001b[0m\u001b[1;33m\u001b[0m\u001b[1;33m\u001b[0m\u001b[0m\n\u001b[0m\u001b[0;32m      6\u001b[0m \u001b[1;32mfrom\u001b[0m \u001b[0msurprise\u001b[0m \u001b[1;32mimport\u001b[0m \u001b[0mReader\u001b[0m\u001b[1;33m,\u001b[0m \u001b[0mDataset\u001b[0m\u001b[1;33m,\u001b[0m \u001b[0mSVD\u001b[0m\u001b[1;33m,\u001b[0m \u001b[0mevaluate\u001b[0m\u001b[1;33m\u001b[0m\u001b[1;33m\u001b[0m\u001b[0m\n\u001b[0;32m      7\u001b[0m \u001b[1;32mfrom\u001b[0m \u001b[0msurprise\u001b[0m\u001b[1;33m.\u001b[0m\u001b[0mmodel_selection\u001b[0m \u001b[1;32mimport\u001b[0m \u001b[0mcross_validate\u001b[0m\u001b[1;33m\u001b[0m\u001b[1;33m\u001b[0m\u001b[0m\n",
      "\u001b[1;31mModuleNotFoundError\u001b[0m: No module named 'surprise'"
     ]
    }
   ],
   "source": [
    "! pip install scikit-surprise\n",
    "import pandas as pd\n",
    "import seaborn as sns\n",
    "import matplotlib.pyplot as plt\n",
    "import surprise\n",
    "from surprise import Reader, Dataset, SVD, evaluate\n",
    "from surprise.model_selection import cross_validate\n",
    "from surprise.model_selection import GridSearchCV"
   ]
  },
  {
   "cell_type": "code",
   "execution_count": 50,
   "id": "0da9662f",
   "metadata": {},
   "outputs": [
    {
     "data": {
      "text/html": [
       "<div>\n",
       "<style scoped>\n",
       "    .dataframe tbody tr th:only-of-type {\n",
       "        vertical-align: middle;\n",
       "    }\n",
       "\n",
       "    .dataframe tbody tr th {\n",
       "        vertical-align: top;\n",
       "    }\n",
       "\n",
       "    .dataframe thead th {\n",
       "        text-align: right;\n",
       "    }\n",
       "</style>\n",
       "<table border=\"1\" class=\"dataframe\">\n",
       "  <thead>\n",
       "    <tr style=\"text-align: right;\">\n",
       "      <th></th>\n",
       "      <th>userid</th>\n",
       "      <th>game</th>\n",
       "      <th>action</th>\n",
       "      <th>purchase_or_hours</th>\n",
       "    </tr>\n",
       "  </thead>\n",
       "  <tbody>\n",
       "    <tr>\n",
       "      <th>0</th>\n",
       "      <td>151603712</td>\n",
       "      <td>The Elder Scrolls V Skyrim</td>\n",
       "      <td>purchase</td>\n",
       "      <td>1.0</td>\n",
       "    </tr>\n",
       "    <tr>\n",
       "      <th>1</th>\n",
       "      <td>151603712</td>\n",
       "      <td>The Elder Scrolls V Skyrim</td>\n",
       "      <td>play</td>\n",
       "      <td>273.0</td>\n",
       "    </tr>\n",
       "    <tr>\n",
       "      <th>2</th>\n",
       "      <td>151603712</td>\n",
       "      <td>Fallout 4</td>\n",
       "      <td>purchase</td>\n",
       "      <td>1.0</td>\n",
       "    </tr>\n",
       "    <tr>\n",
       "      <th>3</th>\n",
       "      <td>151603712</td>\n",
       "      <td>Fallout 4</td>\n",
       "      <td>play</td>\n",
       "      <td>87.0</td>\n",
       "    </tr>\n",
       "    <tr>\n",
       "      <th>4</th>\n",
       "      <td>151603712</td>\n",
       "      <td>Spore</td>\n",
       "      <td>purchase</td>\n",
       "      <td>1.0</td>\n",
       "    </tr>\n",
       "  </tbody>\n",
       "</table>\n",
       "</div>"
      ],
      "text/plain": [
       "      userid                        game    action  purchase_or_hours\n",
       "0  151603712  The Elder Scrolls V Skyrim  purchase                1.0\n",
       "1  151603712  The Elder Scrolls V Skyrim      play              273.0\n",
       "2  151603712                   Fallout 4  purchase                1.0\n",
       "3  151603712                   Fallout 4      play               87.0\n",
       "4  151603712                       Spore  purchase                1.0"
      ]
     },
     "execution_count": 50,
     "metadata": {},
     "output_type": "execute_result"
    }
   ],
   "source": [
    "df = pd.read_csv(\"C:/Users/Charlotte/Desktop/TSE/M2/MATHS OF DEEP LEARNING/projet_recom/steam-200k.csv\",\n",
    "    header=None,\n",
    "    names=[\"userid\", \"game\", \"action\", \"purchase_or_hours\", \"useless\"]\n",
    ")[[\"userid\", \"game\", \"action\", \"purchase_or_hours\"]]\n",
    "df.head()"
   ]
  },
  {
   "cell_type": "markdown",
   "id": "94c18d07",
   "metadata": {},
   "source": [
    "Note: purchase_or_hours always takes the value \"1\" when the game was purchased and the number of hours played otherwise."
   ]
  },
  {
   "cell_type": "markdown",
   "id": "ed78ff67",
   "metadata": {},
   "source": [
    "Missing Values"
   ]
  },
  {
   "cell_type": "code",
   "execution_count": 51,
   "id": "e7331f6c",
   "metadata": {},
   "outputs": [
    {
     "data": {
      "text/plain": [
       "userid               0\n",
       "game                 0\n",
       "action               0\n",
       "purchase_or_hours    0\n",
       "dtype: int64"
      ]
     },
     "execution_count": 51,
     "metadata": {},
     "output_type": "execute_result"
    }
   ],
   "source": [
    "df.isnull().sum()"
   ]
  },
  {
   "cell_type": "markdown",
   "id": "2a6b7c1e",
   "metadata": {},
   "source": [
    "Appreciation\n",
    "In this dataset, we do not have an explicit feature translating the rate of appreciation of a game by a user. Therefore, we consider that the user liked the game if he purchased it or played at least 20 hours.\n",
    "God knows there are video games we hated but still played for more than 20 hours, which justifies a higher threshold. However, that would unvoluntarily discard small video games (which take few hours to complete).\n",
    "\n",
    "Quoique je me dis ptet que c'est mieux :\n",
    "\n",
    "3 if plays more than 50 hours (even if it's a small game, if it's really good then it can be played multiple times) purchased or not\n",
    "2 if between 20 and 50 hours, purchased or not (financial reasons not allowing purchase)\n",
    "1 if purchase AND less than 20 hours (likes it but not so much)\n",
    "0 if no purchase AND less than 20 hours (does not like it)\n",
    "on peut réduire le nombre de classes si problématique"
   ]
  },
  {
   "cell_type": "code",
   "execution_count": 52,
   "id": "9c0191ff",
   "metadata": {},
   "outputs": [],
   "source": [
    "df[\"score\"] = [\n",
    "    3 if df[\"purchase_or_hours\"][i] >= 50 else\n",
    "    2 if df[\"purchase_or_hours\"][i] >= 20 and df[\"purchase_or_hours\"][i] < 50 else\n",
    "    1 if df[\"purchase_or_hours\"][i] < 20 and df[\"action\"][i] == \"purchase\" else\n",
    "    0 for i in range(len(df))\n",
    "]"
   ]
  },
  {
   "cell_type": "code",
   "execution_count": 53,
   "id": "2e109929",
   "metadata": {},
   "outputs": [
    {
     "data": {
      "text/html": [
       "<div>\n",
       "<style scoped>\n",
       "    .dataframe tbody tr th:only-of-type {\n",
       "        vertical-align: middle;\n",
       "    }\n",
       "\n",
       "    .dataframe tbody tr th {\n",
       "        vertical-align: top;\n",
       "    }\n",
       "\n",
       "    .dataframe thead th {\n",
       "        text-align: right;\n",
       "    }\n",
       "</style>\n",
       "<table border=\"1\" class=\"dataframe\">\n",
       "  <thead>\n",
       "    <tr style=\"text-align: right;\">\n",
       "      <th></th>\n",
       "      <th>userid</th>\n",
       "      <th>game</th>\n",
       "      <th>action</th>\n",
       "      <th>purchase_or_hours</th>\n",
       "      <th>score</th>\n",
       "    </tr>\n",
       "  </thead>\n",
       "  <tbody>\n",
       "    <tr>\n",
       "      <th>0</th>\n",
       "      <td>151603712</td>\n",
       "      <td>The Elder Scrolls V Skyrim</td>\n",
       "      <td>purchase</td>\n",
       "      <td>1.0</td>\n",
       "      <td>1</td>\n",
       "    </tr>\n",
       "    <tr>\n",
       "      <th>1</th>\n",
       "      <td>151603712</td>\n",
       "      <td>The Elder Scrolls V Skyrim</td>\n",
       "      <td>play</td>\n",
       "      <td>273.0</td>\n",
       "      <td>3</td>\n",
       "    </tr>\n",
       "    <tr>\n",
       "      <th>2</th>\n",
       "      <td>151603712</td>\n",
       "      <td>Fallout 4</td>\n",
       "      <td>purchase</td>\n",
       "      <td>1.0</td>\n",
       "      <td>1</td>\n",
       "    </tr>\n",
       "    <tr>\n",
       "      <th>3</th>\n",
       "      <td>151603712</td>\n",
       "      <td>Fallout 4</td>\n",
       "      <td>play</td>\n",
       "      <td>87.0</td>\n",
       "      <td>3</td>\n",
       "    </tr>\n",
       "    <tr>\n",
       "      <th>4</th>\n",
       "      <td>151603712</td>\n",
       "      <td>Spore</td>\n",
       "      <td>purchase</td>\n",
       "      <td>1.0</td>\n",
       "      <td>1</td>\n",
       "    </tr>\n",
       "    <tr>\n",
       "      <th>...</th>\n",
       "      <td>...</td>\n",
       "      <td>...</td>\n",
       "      <td>...</td>\n",
       "      <td>...</td>\n",
       "      <td>...</td>\n",
       "    </tr>\n",
       "    <tr>\n",
       "      <th>199995</th>\n",
       "      <td>128470551</td>\n",
       "      <td>Titan Souls</td>\n",
       "      <td>play</td>\n",
       "      <td>1.5</td>\n",
       "      <td>0</td>\n",
       "    </tr>\n",
       "    <tr>\n",
       "      <th>199996</th>\n",
       "      <td>128470551</td>\n",
       "      <td>Grand Theft Auto Vice City</td>\n",
       "      <td>purchase</td>\n",
       "      <td>1.0</td>\n",
       "      <td>1</td>\n",
       "    </tr>\n",
       "    <tr>\n",
       "      <th>199997</th>\n",
       "      <td>128470551</td>\n",
       "      <td>Grand Theft Auto Vice City</td>\n",
       "      <td>play</td>\n",
       "      <td>1.5</td>\n",
       "      <td>0</td>\n",
       "    </tr>\n",
       "    <tr>\n",
       "      <th>199998</th>\n",
       "      <td>128470551</td>\n",
       "      <td>RUSH</td>\n",
       "      <td>purchase</td>\n",
       "      <td>1.0</td>\n",
       "      <td>1</td>\n",
       "    </tr>\n",
       "    <tr>\n",
       "      <th>199999</th>\n",
       "      <td>128470551</td>\n",
       "      <td>RUSH</td>\n",
       "      <td>play</td>\n",
       "      <td>1.4</td>\n",
       "      <td>0</td>\n",
       "    </tr>\n",
       "  </tbody>\n",
       "</table>\n",
       "<p>200000 rows × 5 columns</p>\n",
       "</div>"
      ],
      "text/plain": [
       "           userid                        game    action  purchase_or_hours  \\\n",
       "0       151603712  The Elder Scrolls V Skyrim  purchase                1.0   \n",
       "1       151603712  The Elder Scrolls V Skyrim      play              273.0   \n",
       "2       151603712                   Fallout 4  purchase                1.0   \n",
       "3       151603712                   Fallout 4      play               87.0   \n",
       "4       151603712                       Spore  purchase                1.0   \n",
       "...           ...                         ...       ...                ...   \n",
       "199995  128470551                 Titan Souls      play                1.5   \n",
       "199996  128470551  Grand Theft Auto Vice City  purchase                1.0   \n",
       "199997  128470551  Grand Theft Auto Vice City      play                1.5   \n",
       "199998  128470551                        RUSH  purchase                1.0   \n",
       "199999  128470551                        RUSH      play                1.4   \n",
       "\n",
       "        score  \n",
       "0           1  \n",
       "1           3  \n",
       "2           1  \n",
       "3           3  \n",
       "4           1  \n",
       "...       ...  \n",
       "199995      0  \n",
       "199996      1  \n",
       "199997      0  \n",
       "199998      1  \n",
       "199999      0  \n",
       "\n",
       "[200000 rows x 5 columns]"
      ]
     },
     "execution_count": 53,
     "metadata": {},
     "output_type": "execute_result"
    }
   ],
   "source": [
    "df"
   ]
  },
  {
   "cell_type": "markdown",
   "id": "14ed700d",
   "metadata": {},
   "source": [
    "Toy-model with TMDB Ratings (directly from https://www.kaggle.com/rounakbanik/movie-recommender-systems)\n",
    "\n",
    "Weighted Rating (WR) = $(\\frac{v}{v + m} . R) + (\\frac{m}{v + m} . C)$\n",
    "\n",
    "    - $v$ the number of scores for a game\n",
    "    - $m$ the minimum number of scores required to be listed in the chart\n",
    "    - $R$ the average score of a game\n",
    "    - $C$ the average score across the whole games library\n",
    "    \n",
    "    We try a first version of the TMDB Ratings formula with $m$ defined as the 95th percentile of the score variable \n",
    "   "
   ]
  },
  {
   "cell_type": "code",
   "execution_count": 54,
   "id": "5c7d8442",
   "metadata": {},
   "outputs": [
    {
     "data": {
      "text/plain": [
       "0.8224353708954674"
      ]
     },
     "execution_count": 54,
     "metadata": {},
     "output_type": "execute_result"
    }
   ],
   "source": [
    "score_counts = df[df['score'].notnull()]['score'].astype('int')\n",
    "score_averages = df.groupby(by = \"game\")[\"score\"].mean()\n",
    "C = score_averages.mean()\n",
    "C"
   ]
  },
  {
   "cell_type": "code",
   "execution_count": 55,
   "id": "f78f4afb",
   "metadata": {},
   "outputs": [
    {
     "ename": "SyntaxError",
     "evalue": "invalid syntax (<ipython-input-55-b849032e471e>, line 5)",
     "output_type": "error",
     "traceback": [
      "\u001b[1;36m  File \u001b[1;32m\"<ipython-input-55-b849032e471e>\"\u001b[1;36m, line \u001b[1;32m5\u001b[0m\n\u001b[1;33m    df_sa.rename(columns = {'score':'score_averages',inplace = True)\u001b[0m\n\u001b[1;37m                                                             ^\u001b[0m\n\u001b[1;31mSyntaxError\u001b[0m\u001b[1;31m:\u001b[0m invalid syntax\n"
     ]
    }
   ],
   "source": [
    "score_averages\n",
    "df_sa = pd.DataFrame(score_averages)\n",
    "df_sa\n",
    "df_sa = df_sa.reset_index()\n",
    "df_sa.rename(columns = {'score':'score_averages',inplace = True)"
   ]
  },
  {
   "cell_type": "code",
   "execution_count": null,
   "id": "35553894",
   "metadata": {},
   "outputs": [],
   "source": [
    "df_sa.rename(columns = {'score':'score_averages'},inplace = True)\n",
    "df_sa"
   ]
  },
  {
   "cell_type": "code",
   "execution_count": null,
   "id": "c0071276",
   "metadata": {},
   "outputs": [],
   "source": [
    "df_tot = df.merge(df_sa, 'inner', 'game')\n",
    "df_tot"
   ]
  },
  {
   "cell_type": "code",
   "execution_count": null,
   "id": "57a4e00f",
   "metadata": {},
   "outputs": [],
   "source": [
    "# plot top 10 scores\n",
    "# follow kaggle eg"
   ]
  },
  {
   "cell_type": "code",
   "execution_count": null,
   "id": "aca54958",
   "metadata": {},
   "outputs": [],
   "source": [
    "df_tot.dtypes"
   ]
  },
  {
   "cell_type": "code",
   "execution_count": null,
   "id": "d2a08b11",
   "metadata": {},
   "outputs": [],
   "source": [
    "import matplotlib.pyplot as plt\n",
    "import seaborn as sns, numpy as np\n",
    "\n",
    "sns.set(rc={\"figure.figsize\": (8, 4)}); np.random.seed(0)\n",
    "ax = sns.distplot(df_tot['score_averages'])\n",
    "plt.show()"
   ]
  },
  {
   "cell_type": "code",
   "execution_count": 57,
   "id": "25ebcdde",
   "metadata": {},
   "outputs": [
    {
     "data": {
      "text/plain": [
       "2.0"
      ]
     },
     "execution_count": 57,
     "metadata": {},
     "output_type": "execute_result"
    }
   ],
   "source": [
    "m = score_counts.quantile(0.95)\n",
    "m"
   ]
  },
  {
   "cell_type": "code",
   "execution_count": 56,
   "id": "b720a8e2",
   "metadata": {},
   "outputs": [
    {
     "data": {
      "text/plain": [
       "(17183, 6)"
      ]
     },
     "execution_count": 56,
     "metadata": {},
     "output_type": "execute_result"
    }
   ],
   "source": [
    "qualified = df_tot[(df_tot['score'] >= m) & (df_tot['score'].notnull()) & (df_tot['score_averages'].notnull())][['userid', 'game', 'action', 'purchase_or_hours', 'score', 'score_averages']]\n",
    "qualified['score'] = qualified['score'].astype('int')\n",
    "qualified['score_averages'] = qualified['score_averages'].astype('int')\n",
    "qualified.shape"
   ]
  },
  {
   "cell_type": "code",
   "execution_count": 58,
   "id": "86880f6a",
   "metadata": {},
   "outputs": [
    {
     "data": {
      "text/plain": [
       "0.46278298318105104"
      ]
     },
     "execution_count": 58,
     "metadata": {},
     "output_type": "execute_result"
    }
   ],
   "source": [
    "qualified['score_averages'].mean()"
   ]
  },
  {
   "cell_type": "code",
   "execution_count": null,
   "id": "3b483007",
   "metadata": {},
   "outputs": [],
   "source": [
    "qualified"
   ]
  },
  {
   "cell_type": "code",
   "execution_count": null,
   "id": "efdb7f9b",
   "metadata": {},
   "outputs": [],
   "source": [
    "df_tot"
   ]
  },
  {
   "cell_type": "code",
   "execution_count": 46,
   "id": "402a615d",
   "metadata": {},
   "outputs": [
    {
     "data": {
      "text/plain": [
       "(200000, 6)"
      ]
     },
     "execution_count": 46,
     "metadata": {},
     "output_type": "execute_result"
    }
   ],
   "source": [
    "df_tot.shape"
   ]
  },
  {
   "cell_type": "markdown",
   "id": "4a7a599c",
   "metadata": {},
   "source": [
    "17183 video games are considered on our chart, with an average score of 0.46. "
   ]
  },
  {
   "cell_type": "code",
   "execution_count": 59,
   "id": "f97fd124",
   "metadata": {},
   "outputs": [],
   "source": [
    "def weighted_rating(x):\n",
    "    v = x['score']\n",
    "    R = x['score_averages']\n",
    "    return (v/(v+m) * R) + (m/(m+v) * C)"
   ]
  },
  {
   "cell_type": "code",
   "execution_count": 60,
   "id": "802dd794",
   "metadata": {},
   "outputs": [
    {
     "data": {
      "text/html": [
       "<div>\n",
       "<style scoped>\n",
       "    .dataframe tbody tr th:only-of-type {\n",
       "        vertical-align: middle;\n",
       "    }\n",
       "\n",
       "    .dataframe tbody tr th {\n",
       "        vertical-align: top;\n",
       "    }\n",
       "\n",
       "    .dataframe thead th {\n",
       "        text-align: right;\n",
       "    }\n",
       "</style>\n",
       "<table border=\"1\" class=\"dataframe\">\n",
       "  <thead>\n",
       "    <tr style=\"text-align: right;\">\n",
       "      <th></th>\n",
       "      <th>userid</th>\n",
       "      <th>game</th>\n",
       "      <th>action</th>\n",
       "      <th>purchase_or_hours</th>\n",
       "      <th>score</th>\n",
       "      <th>score_averages</th>\n",
       "      <th>wr</th>\n",
       "    </tr>\n",
       "  </thead>\n",
       "  <tbody>\n",
       "    <tr>\n",
       "      <th>1</th>\n",
       "      <td>151603712</td>\n",
       "      <td>The Elder Scrolls V Skyrim</td>\n",
       "      <td>play</td>\n",
       "      <td>273.0</td>\n",
       "      <td>3</td>\n",
       "      <td>1</td>\n",
       "      <td>0.928974</td>\n",
       "    </tr>\n",
       "    <tr>\n",
       "      <th>3</th>\n",
       "      <td>59945701</td>\n",
       "      <td>The Elder Scrolls V Skyrim</td>\n",
       "      <td>play</td>\n",
       "      <td>58.0</td>\n",
       "      <td>3</td>\n",
       "      <td>1</td>\n",
       "      <td>0.928974</td>\n",
       "    </tr>\n",
       "    <tr>\n",
       "      <th>6</th>\n",
       "      <td>92107940</td>\n",
       "      <td>The Elder Scrolls V Skyrim</td>\n",
       "      <td>play</td>\n",
       "      <td>110.0</td>\n",
       "      <td>3</td>\n",
       "      <td>1</td>\n",
       "      <td>0.928974</td>\n",
       "    </tr>\n",
       "    <tr>\n",
       "      <th>8</th>\n",
       "      <td>250006052</td>\n",
       "      <td>The Elder Scrolls V Skyrim</td>\n",
       "      <td>play</td>\n",
       "      <td>465.0</td>\n",
       "      <td>3</td>\n",
       "      <td>1</td>\n",
       "      <td>0.928974</td>\n",
       "    </tr>\n",
       "    <tr>\n",
       "      <th>10</th>\n",
       "      <td>11373749</td>\n",
       "      <td>The Elder Scrolls V Skyrim</td>\n",
       "      <td>play</td>\n",
       "      <td>220.0</td>\n",
       "      <td>3</td>\n",
       "      <td>1</td>\n",
       "      <td>0.928974</td>\n",
       "    </tr>\n",
       "    <tr>\n",
       "      <th>...</th>\n",
       "      <td>...</td>\n",
       "      <td>...</td>\n",
       "      <td>...</td>\n",
       "      <td>...</td>\n",
       "      <td>...</td>\n",
       "      <td>...</td>\n",
       "      <td>...</td>\n",
       "    </tr>\n",
       "    <tr>\n",
       "      <th>199742</th>\n",
       "      <td>246319849</td>\n",
       "      <td>NOBUNAGA'S AMBITION Kakushin with Power Up Kit</td>\n",
       "      <td>play</td>\n",
       "      <td>267.0</td>\n",
       "      <td>3</td>\n",
       "      <td>2</td>\n",
       "      <td>1.528974</td>\n",
       "    </tr>\n",
       "    <tr>\n",
       "      <th>199744</th>\n",
       "      <td>74772820</td>\n",
       "      <td>Eschalon Book 1</td>\n",
       "      <td>play</td>\n",
       "      <td>57.0</td>\n",
       "      <td>3</td>\n",
       "      <td>2</td>\n",
       "      <td>1.528974</td>\n",
       "    </tr>\n",
       "    <tr>\n",
       "      <th>199802</th>\n",
       "      <td>42380987</td>\n",
       "      <td>Wildlife Park 2</td>\n",
       "      <td>play</td>\n",
       "      <td>29.0</td>\n",
       "      <td>2</td>\n",
       "      <td>1</td>\n",
       "      <td>0.911218</td>\n",
       "    </tr>\n",
       "    <tr>\n",
       "      <th>199920</th>\n",
       "      <td>213854339</td>\n",
       "      <td>Eastside Hockey Manager</td>\n",
       "      <td>play</td>\n",
       "      <td>1295.0</td>\n",
       "      <td>3</td>\n",
       "      <td>2</td>\n",
       "      <td>1.528974</td>\n",
       "    </tr>\n",
       "    <tr>\n",
       "      <th>199964</th>\n",
       "      <td>42657809</td>\n",
       "      <td>Worldwide Soccer Manager 2009</td>\n",
       "      <td>play</td>\n",
       "      <td>295.0</td>\n",
       "      <td>3</td>\n",
       "      <td>2</td>\n",
       "      <td>1.528974</td>\n",
       "    </tr>\n",
       "  </tbody>\n",
       "</table>\n",
       "<p>17183 rows × 7 columns</p>\n",
       "</div>"
      ],
      "text/plain": [
       "           userid                                            game action  \\\n",
       "1       151603712                      The Elder Scrolls V Skyrim   play   \n",
       "3        59945701                      The Elder Scrolls V Skyrim   play   \n",
       "6        92107940                      The Elder Scrolls V Skyrim   play   \n",
       "8       250006052                      The Elder Scrolls V Skyrim   play   \n",
       "10       11373749                      The Elder Scrolls V Skyrim   play   \n",
       "...           ...                                             ...    ...   \n",
       "199742  246319849  NOBUNAGA'S AMBITION Kakushin with Power Up Kit   play   \n",
       "199744   74772820                                 Eschalon Book 1   play   \n",
       "199802   42380987                                 Wildlife Park 2   play   \n",
       "199920  213854339                         Eastside Hockey Manager   play   \n",
       "199964   42657809                   Worldwide Soccer Manager 2009   play   \n",
       "\n",
       "        purchase_or_hours  score  score_averages        wr  \n",
       "1                   273.0      3               1  0.928974  \n",
       "3                    58.0      3               1  0.928974  \n",
       "6                   110.0      3               1  0.928974  \n",
       "8                   465.0      3               1  0.928974  \n",
       "10                  220.0      3               1  0.928974  \n",
       "...                   ...    ...             ...       ...  \n",
       "199742              267.0      3               2  1.528974  \n",
       "199744               57.0      3               2  1.528974  \n",
       "199802               29.0      2               1  0.911218  \n",
       "199920             1295.0      3               2  1.528974  \n",
       "199964              295.0      3               2  1.528974  \n",
       "\n",
       "[17183 rows x 7 columns]"
      ]
     },
     "execution_count": 60,
     "metadata": {},
     "output_type": "execute_result"
    }
   ],
   "source": [
    "qualified['wr'] = qualified.apply(weighted_rating, axis=1)\n",
    "qualified"
   ]
  },
  {
   "cell_type": "code",
   "execution_count": 61,
   "id": "931ca0c6",
   "metadata": {},
   "outputs": [],
   "source": [
    "qualified = qualified.sort_values('wr', ascending=False).head(250)"
   ]
  },
  {
   "cell_type": "code",
   "execution_count": 62,
   "id": "32bf62cc",
   "metadata": {},
   "outputs": [
    {
     "data": {
      "text/html": [
       "<div>\n",
       "<style scoped>\n",
       "    .dataframe tbody tr th:only-of-type {\n",
       "        vertical-align: middle;\n",
       "    }\n",
       "\n",
       "    .dataframe tbody tr th {\n",
       "        vertical-align: top;\n",
       "    }\n",
       "\n",
       "    .dataframe thead th {\n",
       "        text-align: right;\n",
       "    }\n",
       "</style>\n",
       "<table border=\"1\" class=\"dataframe\">\n",
       "  <thead>\n",
       "    <tr style=\"text-align: right;\">\n",
       "      <th></th>\n",
       "      <th>userid</th>\n",
       "      <th>game</th>\n",
       "      <th>action</th>\n",
       "      <th>purchase_or_hours</th>\n",
       "      <th>score</th>\n",
       "      <th>score_averages</th>\n",
       "      <th>wr</th>\n",
       "    </tr>\n",
       "  </thead>\n",
       "  <tbody>\n",
       "    <tr>\n",
       "      <th>199964</th>\n",
       "      <td>42657809</td>\n",
       "      <td>Worldwide Soccer Manager 2009</td>\n",
       "      <td>play</td>\n",
       "      <td>295.0</td>\n",
       "      <td>3</td>\n",
       "      <td>2</td>\n",
       "      <td>1.528974</td>\n",
       "    </tr>\n",
       "    <tr>\n",
       "      <th>196299</th>\n",
       "      <td>46055854</td>\n",
       "      <td>FIFA Manager 11</td>\n",
       "      <td>play</td>\n",
       "      <td>229.0</td>\n",
       "      <td>3</td>\n",
       "      <td>2</td>\n",
       "      <td>1.528974</td>\n",
       "    </tr>\n",
       "    <tr>\n",
       "      <th>198631</th>\n",
       "      <td>165240612</td>\n",
       "      <td>Cultures - Northland</td>\n",
       "      <td>play</td>\n",
       "      <td>194.0</td>\n",
       "      <td>3</td>\n",
       "      <td>2</td>\n",
       "      <td>1.528974</td>\n",
       "    </tr>\n",
       "    <tr>\n",
       "      <th>198314</th>\n",
       "      <td>88199811</td>\n",
       "      <td>RPG Maker MV</td>\n",
       "      <td>play</td>\n",
       "      <td>55.0</td>\n",
       "      <td>3</td>\n",
       "      <td>2</td>\n",
       "      <td>1.528974</td>\n",
       "    </tr>\n",
       "    <tr>\n",
       "      <th>198004</th>\n",
       "      <td>71527252</td>\n",
       "      <td>Runers</td>\n",
       "      <td>play</td>\n",
       "      <td>50.0</td>\n",
       "      <td>3</td>\n",
       "      <td>2</td>\n",
       "      <td>1.528974</td>\n",
       "    </tr>\n",
       "    <tr>\n",
       "      <th>...</th>\n",
       "      <td>...</td>\n",
       "      <td>...</td>\n",
       "      <td>...</td>\n",
       "      <td>...</td>\n",
       "      <td>...</td>\n",
       "      <td>...</td>\n",
       "      <td>...</td>\n",
       "    </tr>\n",
       "    <tr>\n",
       "      <th>64935</th>\n",
       "      <td>66596291</td>\n",
       "      <td>Call of Duty Modern Warfare 2 - Multiplayer</td>\n",
       "      <td>play</td>\n",
       "      <td>536.0</td>\n",
       "      <td>3</td>\n",
       "      <td>1</td>\n",
       "      <td>0.928974</td>\n",
       "    </tr>\n",
       "    <tr>\n",
       "      <th>64931</th>\n",
       "      <td>21861124</td>\n",
       "      <td>Call of Duty Modern Warfare 2 - Multiplayer</td>\n",
       "      <td>play</td>\n",
       "      <td>968.0</td>\n",
       "      <td>3</td>\n",
       "      <td>1</td>\n",
       "      <td>0.928974</td>\n",
       "    </tr>\n",
       "    <tr>\n",
       "      <th>64924</th>\n",
       "      <td>77542968</td>\n",
       "      <td>Call of Duty Modern Warfare 2 - Multiplayer</td>\n",
       "      <td>play</td>\n",
       "      <td>128.0</td>\n",
       "      <td>3</td>\n",
       "      <td>1</td>\n",
       "      <td>0.928974</td>\n",
       "    </tr>\n",
       "    <tr>\n",
       "      <th>64920</th>\n",
       "      <td>31669242</td>\n",
       "      <td>Call of Duty Modern Warfare 2 - Multiplayer</td>\n",
       "      <td>play</td>\n",
       "      <td>249.0</td>\n",
       "      <td>3</td>\n",
       "      <td>1</td>\n",
       "      <td>0.928974</td>\n",
       "    </tr>\n",
       "    <tr>\n",
       "      <th>64899</th>\n",
       "      <td>58289184</td>\n",
       "      <td>Call of Duty Modern Warfare 2 - Multiplayer</td>\n",
       "      <td>play</td>\n",
       "      <td>511.0</td>\n",
       "      <td>3</td>\n",
       "      <td>1</td>\n",
       "      <td>0.928974</td>\n",
       "    </tr>\n",
       "  </tbody>\n",
       "</table>\n",
       "<p>250 rows × 7 columns</p>\n",
       "</div>"
      ],
      "text/plain": [
       "           userid                                         game action  \\\n",
       "199964   42657809                Worldwide Soccer Manager 2009   play   \n",
       "196299   46055854                              FIFA Manager 11   play   \n",
       "198631  165240612                         Cultures - Northland   play   \n",
       "198314   88199811                                 RPG Maker MV   play   \n",
       "198004   71527252                                       Runers   play   \n",
       "...           ...                                          ...    ...   \n",
       "64935    66596291  Call of Duty Modern Warfare 2 - Multiplayer   play   \n",
       "64931    21861124  Call of Duty Modern Warfare 2 - Multiplayer   play   \n",
       "64924    77542968  Call of Duty Modern Warfare 2 - Multiplayer   play   \n",
       "64920    31669242  Call of Duty Modern Warfare 2 - Multiplayer   play   \n",
       "64899    58289184  Call of Duty Modern Warfare 2 - Multiplayer   play   \n",
       "\n",
       "        purchase_or_hours  score  score_averages        wr  \n",
       "199964              295.0      3               2  1.528974  \n",
       "196299              229.0      3               2  1.528974  \n",
       "198631              194.0      3               2  1.528974  \n",
       "198314               55.0      3               2  1.528974  \n",
       "198004               50.0      3               2  1.528974  \n",
       "...                   ...    ...             ...       ...  \n",
       "64935               536.0      3               1  0.928974  \n",
       "64931               968.0      3               1  0.928974  \n",
       "64924               128.0      3               1  0.928974  \n",
       "64920               249.0      3               1  0.928974  \n",
       "64899               511.0      3               1  0.928974  \n",
       "\n",
       "[250 rows x 7 columns]"
      ]
     },
     "execution_count": 62,
     "metadata": {},
     "output_type": "execute_result"
    }
   ],
   "source": [
    "qualified"
   ]
  },
  {
   "cell_type": "markdown",
   "id": "677400b2",
   "metadata": {},
   "source": [
    "Without rescaling the score index using the Weighted Rating transformation, we would not have been able to clearly discriminate between games with purchase_or_hours score greater than 50 e.g.Worldwide Soccer Manager 2009 and Call of Duty Modern Warfare 2 - Multiplayer.\n",
    "\n",
    "But by taking into account the average score of each game, that is their overall rating by the userbase, we observe that Worldwide Soccer Manager 2009, FIFA Manager 11, \tCultures - Northland, \tRPG Maker MV and Runers\n",
    "are associated with the highest Weighted Rating scores, with only 823 cumulated hours played. \n",
    "\n",
    "On the contrary, the Call of Duty saga yields the smallest Weighted Rating scores, 0.92 on average, with almost 2400 hours played in total."
   ]
  },
  {
   "cell_type": "markdown",
   "id": "ac3d2dc0",
   "metadata": {},
   "source": [
    "## Collaborative Filtering"
   ]
  },
  {
   "cell_type": "code",
   "execution_count": 73,
   "id": "39a01222",
   "metadata": {},
   "outputs": [
    {
     "ename": "NameError",
     "evalue": "name 'SVD' is not defined",
     "output_type": "error",
     "traceback": [
      "\u001b[1;31m---------------------------------------------------------------------------\u001b[0m",
      "\u001b[1;31mNameError\u001b[0m                                 Traceback (most recent call last)",
      "\u001b[1;32m<ipython-input-73-1b13b4bbf1ec>\u001b[0m in \u001b[0;36m<module>\u001b[1;34m\u001b[0m\n\u001b[1;32m----> 1\u001b[1;33m \u001b[0malgo\u001b[0m \u001b[1;33m=\u001b[0m \u001b[0mSVD\u001b[0m\u001b[1;33m(\u001b[0m\u001b[1;33m)\u001b[0m\u001b[1;33m\u001b[0m\u001b[1;33m\u001b[0m\u001b[0m\n\u001b[0m\u001b[0;32m      2\u001b[0m \u001b[1;33m\u001b[0m\u001b[0m\n\u001b[0;32m      3\u001b[0m \u001b[1;31m# Run 5-fold cross-validation and print results.\u001b[0m\u001b[1;33m\u001b[0m\u001b[1;33m\u001b[0m\u001b[1;33m\u001b[0m\u001b[0m\n\u001b[0;32m      4\u001b[0m \u001b[1;33m\u001b[0m\u001b[0m\n\u001b[0;32m      5\u001b[0m param_grid = {'n_epochs': [5, 10], 'lr_all': [0.002, 0.005],\n",
      "\u001b[1;31mNameError\u001b[0m: name 'SVD' is not defined"
     ]
    }
   ],
   "source": [
    "algo = SVD()\n",
    "\n",
    "# Run 5-fold cross-validation and print results.\n",
    "\n",
    "param_grid = {'n_epochs': [5, 10], 'lr_all': [0.002, 0.005],\n",
    "              'reg_all': [0.4, 0.6]}\n",
    "gs = GridSearchCV(algo, param_grid, measures=['rmse', 'mae'], cv=5)\n",
    "\n",
    "gs.fit(df_tot)\n",
    "\n",
    "# best RMSE score\n",
    "print(gs.best_score['rmse'])\n",
    "\n",
    "# combination of parameters that gave the best RMSE score\n",
    "print(gs.best_params['rmse'])"
   ]
  },
  {
   "cell_type": "code",
   "execution_count": null,
   "id": "7d505a57",
   "metadata": {},
   "outputs": [],
   "source": [
    "# We can now use the algorithm that yields the best rmse:\n",
    "algo = gs.best_estimator['rmse']\n",
    "algo.fit(df_tot.build_full_trainset())"
   ]
  },
  {
   "cell_type": "code",
   "execution_count": null,
   "id": "9f981fa0",
   "metadata": {},
   "outputs": [],
   "source": [
    "results_df = pd.DataFrame.from_dict(gs.cv_results)"
   ]
  },
  {
   "cell_type": "code",
   "execution_count": null,
   "id": "7be693b6",
   "metadata": {},
   "outputs": [],
   "source": [
    "results_df"
   ]
  },
  {
   "cell_type": "markdown",
   "id": "286caeb5",
   "metadata": {},
   "source": [
    "KNN Algorithm"
   ]
  },
  {
   "cell_type": "code",
   "execution_count": null,
   "id": "1b7496a3",
   "metadata": {},
   "outputs": [],
   "source": [
    "# try https://surprise.readthedocs.io/en/stable/knn_inspired.html#surprise.prediction_algorithms.knns.KNNBaseline\n",
    "\n",
    "# try hybrid recommender: DO NOT RUN"
   ]
  },
  {
   "cell_type": "code",
   "execution_count": null,
   "id": "177acfb0",
   "metadata": {},
   "outputs": [],
   "source": [
    "def hybrid(userid, game):\n",
    "    idx = df_tot['userid']\n",
    "    \n",
    "    sim_scores = list(enumerate(cosine_sim[int(idx)]))\n",
    "    sim_scores = sorted(sim_scores, key=lambda x: x[1], reverse=True)\n",
    "    sim_scores = sim_scores[1:26]\n",
    "    movie_indices = [i[0] for i in sim_scores]\n",
    "    \n",
    "    movies = smd.iloc[movie_indices][['title', 'vote_count', 'vote_average', 'year', 'id']]\n",
    "    movies['est'] = movies['id'].apply(lambda x: svd.predict(userId, indices_map.loc[x]['movieId']).est)\n",
    "    movies = movies.sort_values('est', ascending=False)\n",
    "    return movies.head(10)"
   ]
  },
  {
   "cell_type": "code",
   "execution_count": null,
   "id": "c155f7a4",
   "metadata": {},
   "outputs": [],
   "source": [
    "df_tot = df_tot.set_index('userid')"
   ]
  },
  {
   "cell_type": "code",
   "execution_count": null,
   "id": "cc721163",
   "metadata": {},
   "outputs": [],
   "source": [
    "# to be modified and adapated to our dataset\n",
    "\n",
    "def hybrid(userId, title):\n",
    "    idx = indices[title]\n",
    "    tmdbId = id_map.loc[title]['id']\n",
    "    #print(idx)\n",
    "    movie_id = id_map.loc[title]['movieId']\n",
    "    \n",
    "    sim_scores = list(enumerate(cosine_sim[int(idx)]))\n",
    "    sim_scores = sorted(sim_scores, key=lambda x: x[1], reverse=True)\n",
    "    sim_scores = sim_scores[1:26]\n",
    "    movie_indices = [i[0] for i in sim_scores]\n",
    "    \n",
    "    movies = smd.iloc[movie_indices][['title', 'vote_count', 'vote_average', 'year', 'id']]\n",
    "    movies['est'] = movies['id'].apply(lambda x: svd.predict(userId, indices_map.loc[x]['movieId']).est)\n",
    "    movies = movies.sort_values('est', ascending=False)\n",
    "    return movies.head(10)"
   ]
  },
  {
   "cell_type": "code",
   "execution_count": null,
   "id": "22e49c05",
   "metadata": {},
   "outputs": [],
   "source": [
    "# try\n",
    "# https://surprise.readthedocs.io/en/stable/matrix_factorization.html\n",
    "# https://surprise.readthedocs.io/en/stable/similarities.html"
   ]
  }
 ],
 "metadata": {
  "kernelspec": {
   "display_name": "Python 3",
   "language": "python",
   "name": "python3"
  },
  "language_info": {
   "codemirror_mode": {
    "name": "ipython",
    "version": 3
   },
   "file_extension": ".py",
   "mimetype": "text/x-python",
   "name": "python",
   "nbconvert_exporter": "python",
   "pygments_lexer": "ipython3",
   "version": "3.7.10"
  }
 },
 "nbformat": 4,
 "nbformat_minor": 5
}
